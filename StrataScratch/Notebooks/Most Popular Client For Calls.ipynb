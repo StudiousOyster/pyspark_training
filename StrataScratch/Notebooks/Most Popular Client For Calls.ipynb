{
 "cells": [
  {
   "cell_type": "markdown",
   "id": "add52438",
   "metadata": {},
   "source": [
    "## Most Popular Client For Calls - StrataScratch\n",
    "\n",
    "Select the most popular client_id based on the number of users who individually have at least 50% of their events from the following list: 'video call received', 'video call sent', 'voice call received', 'voice call sent'.\n",
    "\n",
    "Table: fact_events"
   ]
  },
  {
   "cell_type": "code",
   "execution_count": 13,
   "id": "d10edda0",
   "metadata": {},
   "outputs": [],
   "source": [
    "import pyspark\n",
    "from pyspark.sql import SparkSession\n",
    "from pyspark.sql import functions as F\n",
    "from pyspark.sql.window import Window\n",
    "import pandas as pd\n",
    "\n",
    "import os\n",
    "import sys"
   ]
  },
  {
   "cell_type": "code",
   "execution_count": 17,
   "id": "f317ac24",
   "metadata": {},
   "outputs": [],
   "source": [
    "os.environ[\"JAVA_HOME\"] = \"C:/Program Files/Java/jdk-11\"\n",
    "spark = SparkSession.builder.appName(\"Most Popular Client For Calls\").getOrCreate()"
   ]
  },
  {
   "cell_type": "code",
   "execution_count": 18,
   "id": "46bce5e3",
   "metadata": {},
   "outputs": [],
   "source": [
    "df = spark.read.format(\"csv\") \\\n",
    "    .option(\"header\", \"true\") \\\n",
    "    .option(\"inferSchema\", \"true\") \\\n",
    "    .load(\"../Data/Most Popular Client For Calls_fact_events_Tbl.csv\")"
   ]
  },
  {
   "cell_type": "code",
   "execution_count": 19,
   "id": "38809eb4",
   "metadata": {},
   "outputs": [
    {
     "name": "stdout",
     "output_type": "stream",
     "text": [
      "+---+-------+----------+----------------+---------+-------------------+--------+\n",
      "| id|time_id|   user_id|     customer_id|client_id|         event_type|event_id|\n",
      "+---+-------+----------+----------------+---------+-------------------+--------+\n",
      "|  1|  43889|3668-QPYBK|          Sendit|  desktop|       message sent|       3|\n",
      "|  2|  43889|7892-POOKP|       Connectix|   mobile|      file received|       2|\n",
      "|  3|  43924|9763-GRSKD|          Zoomit|  desktop|video call received|       7|\n",
      "|  4|  43923|9763-GRSKD|       Connectix|  desktop|video call received|       7|\n",
      "|  5|  43867|9237-HQITU|          Sendit|  desktop|video call received|       7|\n",
      "|  6|  43888|8191-XWSZG|       Connectix|  desktop|      file received|       2|\n",
      "|  7|  43924|9237-HQITU|       Connectix|  desktop|video call received|       7|\n",
      "|  8|  43891|9237-HQITU|       Connectix|   mobile|   message received|       4|\n",
      "|  9|  43923|4190-MFLUW|       Connectix|   mobile|video call received|       7|\n",
      "| 10|  43942|9763-GRSKD|          Sendit|  desktop|      file received|       2|\n",
      "| 11|  43889|5129-JLPIS|Electric Gravity|   mobile| video call started|       6|\n",
      "| 12|  43921|6713-OKOMC|       Connectix|  desktop|      file received|       2|\n",
      "| 13|  43911|6388-TABGU|       Connectix|  desktop|       message sent|       3|\n",
      "| 14|  43893|7469-LKBCI|       Connectix|   mobile|video call received|       7|\n",
      "| 15|  43872|9237-HQITU|       Connectix|  desktop|video call received|       7|\n",
      "| 16|  43891|5575-GNVDE|          Zoomit|  desktop|      file received|       2|\n",
      "| 17|  43892|6388-TABGU|       Connectix|  desktop|       message sent|       3|\n",
      "| 18|  43927|9305-CDSKC|       Connectix|  desktop|   message received|       4|\n",
      "| 19|  43874|3668-QPYBK|       Connectix|   mobile|          file sent|       1|\n",
      "| 20|  43924|9959-WOFKT|       Connectix|  desktop|      file received|       2|\n",
      "+---+-------+----------+----------------+---------+-------------------+--------+\n",
      "only showing top 20 rows\n",
      "\n"
     ]
    }
   ],
   "source": [
    "df.show() #only shows 20 rows\n",
    "# df.toPandas() # will not work as it requires 3.11 python version or lower"
   ]
  },
  {
   "cell_type": "code",
   "execution_count": null,
   "id": "edcc3881",
   "metadata": {},
   "outputs": [],
   "source": []
  }
 ],
 "metadata": {
  "kernelspec": {
   "display_name": ".venv",
   "language": "python",
   "name": "python3"
  },
  "language_info": {
   "codemirror_mode": {
    "name": "ipython",
    "version": 3
   },
   "file_extension": ".py",
   "mimetype": "text/x-python",
   "name": "python",
   "nbconvert_exporter": "python",
   "pygments_lexer": "ipython3",
   "version": "3.13.0"
  }
 },
 "nbformat": 4,
 "nbformat_minor": 5
}
