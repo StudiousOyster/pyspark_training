{
 "cells": [
  {
   "cell_type": "markdown",
   "id": "21d6eff4",
   "metadata": {},
   "source": [
    "## Election Results\n",
    "The election is conducted in a city and everyone can vote for one or more candidates, or choose not to vote at all. Each person has 1 vote so if they vote for multiple candidates, their vote gets equally split across these candidates. For example, if a person votes for 2 candidates, these candidates receive an equivalent of 0.5 vote each. Some voters have chosen not to vote, which explains the blank entries in the dataset.\n",
    "\n",
    "\n",
    "Find out who got the most votes and won the election. Output the name of the candidate or multiple names in case of a tie.\n",
    "To avoid issues with a floating-point error you can round the number of votes received by a candidate to 3 decimal places.\n",
    "<br><br>\n",
    "Table: voting_results"
   ]
  },
  {
   "cell_type": "code",
   "execution_count": 1,
   "id": "853308c1",
   "metadata": {},
   "outputs": [],
   "source": [
    "import pyspark\n",
    "from pyspark.sql import SparkSession\n",
    "from pyspark.sql import functions as F\n",
    "from pyspark.sql.window import Window\n",
    "import pandas as pd\n",
    "\n",
    "import os\n",
    "import sys"
   ]
  },
  {
   "cell_type": "code",
   "execution_count": 2,
   "id": "1e9f4fbe",
   "metadata": {},
   "outputs": [],
   "source": [
    "os.environ['JAVA_HOME'] = \"C:/Program Files/Java/jdk-11\"\n",
    "\n",
    "spark = SparkSession.builder.appName('Election Results').getOrCreate()"
   ]
  },
  {
   "cell_type": "code",
   "execution_count": 5,
   "id": "934a9aeb",
   "metadata": {},
   "outputs": [
    {
     "name": "stdout",
     "output_type": "stream",
     "text": [
      "+--------+---------+\n",
      "|   voter|candidate|\n",
      "+--------+---------+\n",
      "|   Kathy|     NULL|\n",
      "| Charles|     Ryan|\n",
      "| Charles|Christine|\n",
      "| Charles|    Kathy|\n",
      "|Benjamin|Christine|\n",
      "| Anthony|     Paul|\n",
      "| Anthony|  Anthony|\n",
      "|  Edward|     Ryan|\n",
      "|  Edward|     Paul|\n",
      "|  Edward|    Kathy|\n",
      "|   Terry|     NULL|\n",
      "|   Nancy|     Ryan|\n",
      "|   Nancy|   Nicole|\n",
      "|   Nancy|     Paul|\n",
      "|   Nancy|Christine|\n",
      "|   Nancy|    Kathy|\n",
      "|  Evelyn|  Anthony|\n",
      "|  Evelyn|Christine|\n",
      "|  Evelyn|     Paul|\n",
      "|  Evelyn|   Nicole|\n",
      "+--------+---------+\n",
      "only showing top 20 rows\n",
      "\n"
     ]
    }
   ],
   "source": [
    "df = spark.read.format('csv') \\\n",
    "    .option('header', 'true') \\\n",
    "    .option('inferSchema', 'true') \\\n",
    "    .load('../Data/voting_results.csv')\n",
    "    \n",
    "df.show()"
   ]
  },
  {
   "cell_type": "code",
   "execution_count": 57,
   "id": "ce2b8ff5",
   "metadata": {},
   "outputs": [
    {
     "name": "stdout",
     "output_type": "stream",
     "text": [
      "+--------+---------+\n",
      "|   voter|candidate|\n",
      "+--------+---------+\n",
      "| Charles|     Ryan|\n",
      "| Charles|Christine|\n",
      "| Charles|    Kathy|\n",
      "|Benjamin|Christine|\n",
      "| Anthony|     Paul|\n",
      "| Anthony|  Anthony|\n",
      "|  Edward|     Ryan|\n",
      "|  Edward|     Paul|\n",
      "|  Edward|    Kathy|\n",
      "|   Nancy|     Ryan|\n",
      "|   Nancy|   Nicole|\n",
      "|   Nancy|     Paul|\n",
      "|   Nancy|Christine|\n",
      "|   Nancy|    Kathy|\n",
      "|  Evelyn|  Anthony|\n",
      "|  Evelyn|Christine|\n",
      "|  Evelyn|     Paul|\n",
      "|  Evelyn|   Nicole|\n",
      "| Shirley|     Ryan|\n",
      "| Shirley|   Nicole|\n",
      "+--------+---------+\n",
      "only showing top 20 rows\n",
      "\n"
     ]
    }
   ],
   "source": [
    "result = df.filter(\n",
    "    F.col('candidate').isNotNull()\n",
    "    )\n",
    "\n",
    "result.show()"
   ]
  },
  {
   "cell_type": "code",
   "execution_count": 58,
   "id": "4a713b6e",
   "metadata": {},
   "outputs": [
    {
     "name": "stdout",
     "output_type": "stream",
     "text": [
      "+---------+----+\n",
      "|    voter|rate|\n",
      "+---------+----+\n",
      "| Benjamin| 1.0|\n",
      "|  Matthew| 0.5|\n",
      "|    Helen|0.25|\n",
      "|   Evelyn|0.25|\n",
      "|   Nicole| 1.0|\n",
      "|   Edward|0.33|\n",
      "|   Martha| 0.5|\n",
      "|  Charles|0.33|\n",
      "|     Alan| 1.0|\n",
      "|    Bobby| 0.5|\n",
      "|   Andrew| 0.5|\n",
      "|  Anthony| 0.2|\n",
      "|    Kevin|0.33|\n",
      "|    Kathy|0.25|\n",
      "|    Nancy| 0.2|\n",
      "|    Marie| 1.0|\n",
      "|  Shirley|0.25|\n",
      "|Christine| 0.5|\n",
      "|     Ryan| 1.0|\n",
      "+---------+----+\n",
      "\n"
     ]
    }
   ],
   "source": [
    "result1 = result.groupBy(\n",
    "    'voter'\n",
    "    ).agg(\n",
    "        F.round(F.lit(1)/F.count('candidate'), 2).alias('rate')\n",
    "        )\n",
    "    \n",
    "result1.show()"
   ]
  },
  {
   "cell_type": "code",
   "execution_count": 71,
   "id": "eb700d68",
   "metadata": {},
   "outputs": [
    {
     "name": "stdout",
     "output_type": "stream",
     "text": [
      "+---------+\n",
      "|candidate|\n",
      "+---------+\n",
      "|Christine|\n",
      "+---------+\n",
      "\n"
     ]
    }
   ],
   "source": [
    "final_result = result.alias('t1').join(\n",
    "    result1.alias('t2'),\n",
    "    F.col('t1.voter') == F.col('t2.voter'),\n",
    "    how = 'inner'\n",
    "    ).groupBy(\n",
    "        F.col('candidate')\n",
    "        ).agg(\n",
    "            F.round(F.sum(F.col('rate')), 2).alias('total_vote_rate')\n",
    "            ).orderBy(\n",
    "                F.col('total_vote_rate').desc()\n",
    "                ).select(\n",
    "                    'candidate'\n",
    "                    ).limit(1)\n",
    "\n",
    "final_result.show()"
   ]
  },
  {
   "cell_type": "code",
   "execution_count": null,
   "id": "9060e2a9",
   "metadata": {},
   "outputs": [],
   "source": []
  },
  {
   "cell_type": "code",
   "execution_count": null,
   "id": "9cbd159b",
   "metadata": {},
   "outputs": [],
   "source": []
  }
 ],
 "metadata": {
  "kernelspec": {
   "display_name": ".venv",
   "language": "python",
   "name": "python3"
  },
  "language_info": {
   "codemirror_mode": {
    "name": "ipython",
    "version": 3
   },
   "file_extension": ".py",
   "mimetype": "text/x-python",
   "name": "python",
   "nbconvert_exporter": "python",
   "pygments_lexer": "ipython3",
   "version": "3.11.9"
  }
 },
 "nbformat": 4,
 "nbformat_minor": 5
}
