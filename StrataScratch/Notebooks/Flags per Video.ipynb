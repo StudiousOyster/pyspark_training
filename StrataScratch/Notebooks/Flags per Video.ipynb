{
 "cells": [
  {
   "cell_type": "markdown",
   "id": "bce57c40",
   "metadata": {},
   "source": [
    "## Flags per Video\n",
    "\n",
    "For each video, find how many unique users flagged it. A unique user can be identified using the combination of their first name and last name. Do not consider rows in which there is no flag ID.\n",
    "<br> <br>\n",
    "Table: user_flags"
   ]
  },
  {
   "cell_type": "code",
   "execution_count": 1,
   "id": "e1ed36cf",
   "metadata": {},
   "outputs": [],
   "source": [
    "import pyspark\n",
    "from pyspark.sql import SparkSession\n",
    "from pyspark.sql import functions as F\n",
    "from pyspark.sql.window import Window\n",
    "import pandas as pd\n",
    "\n",
    "import os"
   ]
  },
  {
   "cell_type": "code",
   "execution_count": 2,
   "id": "27040c85",
   "metadata": {},
   "outputs": [],
   "source": [
    "os.environ['JAVA_HOME'] = \"C:/Program Files/Java/jdk-11\"\n",
    "\n",
    "spark = SparkSession.builder.appName('Flags per Video').getOrCreate()"
   ]
  },
  {
   "cell_type": "code",
   "execution_count": 3,
   "id": "c48eae14",
   "metadata": {},
   "outputs": [
    {
     "name": "stdout",
     "output_type": "stream",
     "text": [
      "+--------------+-------------+-----------+-------+\n",
      "|user_firstname|user_lastname|   video_id|flag_id|\n",
      "+--------------+-------------+-----------+-------+\n",
      "|       Richard|       Hasson|y6120QOlsfU| 0cazx3|\n",
      "|          Mark|          May|Ct6BUPvE2sM| 1cn76u|\n",
      "|          Gina|       Korman|dQw4w9WgXcQ| 1i43zk|\n",
      "|          Mark|          May|Ct6BUPvE2sM| 1n0vef|\n",
      "|          Mark|          May|jNQXAC9IVRw| 1sv6ib|\n",
      "|          Gina|       Korman|dQw4w9WgXcQ| 20xekb|\n",
      "|          Mark|          May|5qap5aO4i9A| 4cvwuv|\n",
      "|        Daniel|         Bell|5qap5aO4i9A| 4sd6dv|\n",
      "|       Richard|       Hasson|y6120QOlsfU| 6jjkvn|\n",
      "|       Pauline|        Wilks|jNQXAC9IVRw| 7ks264|\n",
      "|      Courtney|         NULL|dQw4w9WgXcQ|   NULL|\n",
      "|         Helen|        Hearn|dQw4w9WgXcQ| 8946nx|\n",
      "|          Mark|      Johnson|y6120QOlsfU| 8wwg0l|\n",
      "|       Richard|       Hasson|dQw4w9WgXcQ| arydfd|\n",
      "|          Gina|       Korman|       NULL|   NULL|\n",
      "|          Mark|      Johnson|y6120QOlsfU| bl40qw|\n",
      "|       Richard|       Hasson|dQw4w9WgXcQ| ehn1pt|\n",
      "|          NULL|        Lopez|dQw4w9WgXcQ| hucyzx|\n",
      "|          Greg|         NULL|5qap5aO4i9A|   NULL|\n",
      "|       Pauline|        Wilks|jNQXAC9IVRw| i2l3oo|\n",
      "+--------------+-------------+-----------+-------+\n",
      "only showing top 20 rows\n",
      "\n"
     ]
    }
   ],
   "source": [
    "df = spark.read.format('csv') \\\n",
    "    .option('header', 'true') \\\n",
    "    .option('inferSchema', 'true') \\\n",
    "    .load('../Data/user_flags.csv')\n",
    "    \n",
    "df.show()"
   ]
  },
  {
   "cell_type": "code",
   "execution_count": 28,
   "id": "94963629",
   "metadata": {},
   "outputs": [
    {
     "name": "stdout",
     "output_type": "stream",
     "text": [
      "+-----------+----------------+\n",
      "|   video_id|num_unique_users|\n",
      "+-----------+----------------+\n",
      "|y6120QOlsfU|               5|\n",
      "|dQw4w9WgXcQ|               5|\n",
      "|jNQXAC9IVRw|               3|\n",
      "|5qap5aO4i9A|               2|\n",
      "|Ct6BUPvE2sM|               2|\n",
      "+-----------+----------------+\n",
      "\n"
     ]
    }
   ],
   "source": [
    "result = df.filter(\n",
    "    (F.col('flag_id').isNotNull()) & (F.col('video_id').isNotNull())\n",
    "    ).fillna({\n",
    "        'user_firstname' : ' ',\n",
    "        'user_lastname': ' '\n",
    "        }).withColumn(\n",
    "            'full_name',\n",
    "            F.concat('user_firstname', 'user_lastname')\n",
    "            ).groupBy(\n",
    "                'video_id'\n",
    "                ).agg(\n",
    "                    F.countDistinct('full_name').alias('num_unique_users')\n",
    "                    ).orderBy(\n",
    "                        F.col('num_unique_users').desc()\n",
    "                        )\n",
    "\n",
    "result.show()"
   ]
  },
  {
   "cell_type": "code",
   "execution_count": 27,
   "id": "6967fefb",
   "metadata": {},
   "outputs": [
    {
     "name": "stdout",
     "output_type": "stream",
     "text": [
      "+-----------+-------------------------+\n",
      "|   video_id|count(DISTINCT full_name)|\n",
      "+-----------+-------------------------+\n",
      "|y6120QOlsfU|                        5|\n",
      "|5qap5aO4i9A|                        2|\n",
      "|Ct6BUPvE2sM|                        2|\n",
      "|dQw4w9WgXcQ|                        5|\n",
      "|jNQXAC9IVRw|                        3|\n",
      "+-----------+-------------------------+\n",
      "\n"
     ]
    }
   ],
   "source": [
    "# another solution using concat_ws\n",
    "result1 = df.filter(\n",
    "    F.col('flag_id').isNotNull()\n",
    "        ).withColumn(\n",
    "        'full_name',\n",
    "        F.concat_ws(' ', F.col('user_firstname'), F.col('user_lastname'))\n",
    "        ).groupBy(\n",
    "            'video_id'\n",
    "            ).agg(\n",
    "                F.countDistinct('full_name')\n",
    "                )\n",
    "            \n",
    "result1.show()"
   ]
  },
  {
   "cell_type": "code",
   "execution_count": null,
   "id": "817c4fee",
   "metadata": {},
   "outputs": [],
   "source": []
  }
 ],
 "metadata": {
  "kernelspec": {
   "display_name": ".venv",
   "language": "python",
   "name": "python3"
  },
  "language_info": {
   "codemirror_mode": {
    "name": "ipython",
    "version": 3
   },
   "file_extension": ".py",
   "mimetype": "text/x-python",
   "name": "python",
   "nbconvert_exporter": "python",
   "pygments_lexer": "ipython3",
   "version": "3.11.9"
  }
 },
 "nbformat": 4,
 "nbformat_minor": 5
}
