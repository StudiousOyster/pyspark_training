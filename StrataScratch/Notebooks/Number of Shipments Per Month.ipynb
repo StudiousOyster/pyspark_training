{
 "cells": [
  {
   "cell_type": "markdown",
   "id": "a7394535",
   "metadata": {},
   "source": [
    "## Number of Shipments Per Month (nsm)\n",
    "\n",
    "Write a query that will calculate the number of shipments per month. The unique key for one shipment is a combination of shipment_id and sub_id. Output the year_month in format YYYY-MM and the number of shipments in that month.\n",
    "\n",
    "Table: amazon_shipment_nsm"
   ]
  },
  {
   "cell_type": "code",
   "execution_count": 1,
   "id": "364656ea",
   "metadata": {},
   "outputs": [],
   "source": [
    "import pyspark\n",
    "from pyspark.sql import functions as F\n",
    "from pyspark.sql import SparkSession\n",
    "from pyspark.sql.window import Window\n",
    "import os"
   ]
  },
  {
   "cell_type": "code",
   "execution_count": 3,
   "id": "e14aa321",
   "metadata": {},
   "outputs": [],
   "source": [
    "os.environ['JAVA_HOME'] = \"C:/Program Files/Java/jdk-11\"\n",
    "\n",
    "spark = SparkSession.builder.appName('NSM').master('local').getOrCreate()"
   ]
  },
  {
   "cell_type": "code",
   "execution_count": 6,
   "id": "a464873c",
   "metadata": {},
   "outputs": [
    {
     "name": "stdout",
     "output_type": "stream",
     "text": [
      "+-----------+------+------+-------------+\n",
      "|shipment_id|sub_id|weight|shipment_date|\n",
      "+-----------+------+------+-------------+\n",
      "|        101|     1|    10|   2021-08-30|\n",
      "|        101|     2|    20|   2021-09-01|\n",
      "|        101|     3|    10|   2021-09-05|\n",
      "|        102|     1|    50|   2021-09-02|\n",
      "|        103|     1|    25|   2021-09-01|\n",
      "+-----------+------+------+-------------+\n",
      "only showing top 5 rows\n",
      "\n"
     ]
    }
   ],
   "source": [
    "df = spark.read.format('csv').\\\n",
    "        option('header', True).\\\n",
    "        option('inferSchema', True).\\\n",
    "        load('../Data/amazon_shipment_nsm.csv')\n",
    "        \n",
    "df.show(5)"
   ]
  },
  {
   "cell_type": "code",
   "execution_count": 15,
   "id": "bd877698",
   "metadata": {},
   "outputs": [
    {
     "name": "stdout",
     "output_type": "stream",
     "text": [
      "+----------+------------+-----+\n",
      "|year_month|year_month_1|count|\n",
      "+----------+------------+-----+\n",
      "|    2021-9|      2021-9|    6|\n",
      "|    2021-8|      2021-8|    3|\n",
      "+----------+------------+-----+\n",
      "\n"
     ]
    }
   ],
   "source": [
    "result = df.withColumn(\n",
    "    'key_col',\n",
    "    F.concat('shipment_Id', 'sub_id')\n",
    "    ).groupBy(\n",
    "        F.concat(F.year('shipment_date'),F.lit('-'), F.month('shipment_date')).alias('year_month'),\n",
    "        F.concat_ws('-', F.year('shipment_date'), F.month('shipment_date')).alias('year_month_1')\n",
    "        ).agg(\n",
    "            F.countDistinct('key_col').alias('count')\n",
    "            ).show()"
   ]
  },
  {
   "cell_type": "code",
   "execution_count": null,
   "id": "235e7329",
   "metadata": {},
   "outputs": [],
   "source": []
  }
 ],
 "metadata": {
  "kernelspec": {
   "display_name": ".venv",
   "language": "python",
   "name": "python3"
  },
  "language_info": {
   "codemirror_mode": {
    "name": "ipython",
    "version": 3
   },
   "file_extension": ".py",
   "mimetype": "text/x-python",
   "name": "python",
   "nbconvert_exporter": "python",
   "pygments_lexer": "ipython3",
   "version": "3.11.9"
  }
 },
 "nbformat": 4,
 "nbformat_minor": 5
}
