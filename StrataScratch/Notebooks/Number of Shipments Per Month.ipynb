{
 "cells": [
  {
   "cell_type": "markdown",
   "id": "a7394535",
   "metadata": {},
   "source": [
    "## Number of Shipments Per Month (nsm)\n",
    "\n",
    "Write a query that will calculate the number of shipments per month. The unique key for one shipment is a combination of shipment_id and sub_id. Output the year_month in format YYYY-MM and the number of shipments in that month.\n",
    "\n",
    "Table: amazon_shipment_nsm"
   ]
  },
  {
   "cell_type": "markdown",
   "id": "364656ea",
   "metadata": {},
   "source": []
  }
 ],
 "metadata": {
  "language_info": {
   "name": "python"
  }
 },
 "nbformat": 4,
 "nbformat_minor": 5
}
