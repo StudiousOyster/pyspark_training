{
 "cells": [
  {
   "cell_type": "markdown",
   "id": "95f13130",
   "metadata": {},
   "source": [
    "## User with Most Approved Flags\n",
    "\n",
    "Which user flagged the most distinct videos that ended up approved by YouTube? Output, in one column, their full name or names in case of a tie. In the user's full name, include a space between the first and the last name.\n",
    "\n",
    "<br>\n",
    "Tables: user_flags, flag_review"
   ]
  },
  {
   "cell_type": "code",
   "execution_count": 1,
   "id": "305d8d61",
   "metadata": {},
   "outputs": [],
   "source": [
    "import pyspark\n",
    "from pyspark.sql import SparkSession\n",
    "from pyspark.sql import functions as F\n",
    "from pyspark.sql.window import Window\n",
    "\n",
    "import os"
   ]
  },
  {
   "cell_type": "code",
   "execution_count": 2,
   "id": "c6f29660",
   "metadata": {},
   "outputs": [],
   "source": [
    "os.environ['JAVA_HOME'] = \"C:/Program Files/Java/jdk-11\"\n",
    "\n",
    "spark = SparkSession.builder.appName('User with Most Approved Flags').getOrCreate()"
   ]
  },
  {
   "cell_type": "code",
   "execution_count": 3,
   "id": "48776b80",
   "metadata": {},
   "outputs": [],
   "source": [
    "df1 = spark.read.format('csv') \\\n",
    "    .option('header', 'true') \\\n",
    "    .option('inferSchema', 'true') \\\n",
    "    .load('../Data/user_flags - User with Most Approved Flags.csv')\n",
    "    \n",
    "df2 = spark.read.format('csv') \\\n",
    "    .option('header', 'true') \\\n",
    "    .option('inferSchema', 'true') \\\n",
    "    .load('../Data/flag_review - User with Most Approved Flags.csv')\n",
    "    \n"
   ]
  },
  {
   "cell_type": "code",
   "execution_count": 4,
   "id": "d5d391d4",
   "metadata": {},
   "outputs": [
    {
     "name": "stdout",
     "output_type": "stream",
     "text": [
      "+--------------+-------------+-----------+-------+\n",
      "|user_firstname|user_lastname|   video_id|flag_id|\n",
      "+--------------+-------------+-----------+-------+\n",
      "|       Richard|       Hasson|y6120QOlsfU| 0cazx3|\n",
      "|          Mark|          May|Ct6BUPvE2sM| 1cn76u|\n",
      "|          Gina|       Korman|dQw4w9WgXcQ| 1i43zk|\n",
      "|          Mark|          May|Ct6BUPvE2sM| 1n0vef|\n",
      "|          Mark|          May|jNQXAC9IVRw| 1sv6ib|\n",
      "|          Gina|       Korman|dQw4w9WgXcQ| 20xekb|\n",
      "|          Mark|          May|5qap5aO4i9A| 4cvwuv|\n",
      "|        Daniel|         Bell|5qap5aO4i9A| 4sd6dv|\n",
      "|       Richard|       Hasson|y6120QOlsfU| 6jjkvn|\n",
      "|       Pauline|        Wilks|jNQXAC9IVRw| 7ks264|\n",
      "|      Courtney|         NULL|dQw4w9WgXcQ|   NULL|\n",
      "|         Helen|        Hearn|dQw4w9WgXcQ| 8946nx|\n",
      "|          Mark|      Johnson|y6120QOlsfU| 8wwg0l|\n",
      "|       Richard|       Hasson|dQw4w9WgXcQ| arydfd|\n",
      "|          Gina|       Korman|       NULL|   NULL|\n",
      "|          Mark|      Johnson|y6120QOlsfU| bl40qw|\n",
      "|       Richard|       Hasson|dQw4w9WgXcQ| ehn1pt|\n",
      "|          NULL|        Lopez|dQw4w9WgXcQ| hucyzx|\n",
      "|          Greg|         NULL|5qap5aO4i9A|   NULL|\n",
      "|       Pauline|        Wilks|jNQXAC9IVRw| i2l3oo|\n",
      "+--------------+-------------+-----------+-------+\n",
      "only showing top 20 rows\n",
      "\n"
     ]
    }
   ],
   "source": [
    "df1.show()"
   ]
  },
  {
   "cell_type": "code",
   "execution_count": 5,
   "id": "04021553",
   "metadata": {},
   "outputs": [
    {
     "name": "stdout",
     "output_type": "stream",
     "text": [
      "+-------+--------------+-------------+----------------+\n",
      "|flag_id|reviewed_by_yt|reviewed_date|reviewed_outcome|\n",
      "+-------+--------------+-------------+----------------+\n",
      "| 0cazx3|         false|         NULL|            NULL|\n",
      "| 1cn76u|          true|   2022-03-15|         REMOVED|\n",
      "| 1i43zk|          true|   2022-03-15|         REMOVED|\n",
      "| 1n0vef|          true|   2022-03-15|         REMOVED|\n",
      "| 1sv6ib|          true|   2022-03-15|        APPROVED|\n",
      "| 20xekb|          true|   2022-03-17|         REMOVED|\n",
      "| 4cvwuv|          true|   2022-03-15|        APPROVED|\n",
      "| 4l1tk7|         false|         NULL|            NULL|\n",
      "| 4sd6dv|          true|   2022-03-14|         REMOVED|\n",
      "| 6jjkvn|          true|   2022-03-16|        APPROVED|\n",
      "| 7ks264|          true|   2022-03-15|        APPROVED|\n",
      "| 8946nx|         false|         NULL|            NULL|\n",
      "| 8wwg0l|         false|         NULL|            NULL|\n",
      "| arydfd|          true|   2022-03-15|        APPROVED|\n",
      "| bl40qw|          true|   2022-03-16|         REMOVED|\n",
      "| ehn1pt|          true|   2022-03-18|        APPROVED|\n",
      "| hucyzx|         false|         NULL|            NULL|\n",
      "| i2l3oo|          true|   2022-03-17|         REMOVED|\n",
      "| i6336w|         false|         NULL|            NULL|\n",
      "| iey5vi|         false|         NULL|            NULL|\n",
      "+-------+--------------+-------------+----------------+\n",
      "only showing top 20 rows\n",
      "\n"
     ]
    }
   ],
   "source": [
    "df2.show()"
   ]
  },
  {
   "cell_type": "code",
   "execution_count": null,
   "id": "75563536",
   "metadata": {},
   "outputs": [],
   "source": []
  }
 ],
 "metadata": {
  "kernelspec": {
   "display_name": ".venv",
   "language": "python",
   "name": "python3"
  },
  "language_info": {
   "codemirror_mode": {
    "name": "ipython",
    "version": 3
   },
   "file_extension": ".py",
   "mimetype": "text/x-python",
   "name": "python",
   "nbconvert_exporter": "python",
   "pygments_lexer": "ipython3",
   "version": "3.11.9"
  }
 },
 "nbformat": 4,
 "nbformat_minor": 5
}
