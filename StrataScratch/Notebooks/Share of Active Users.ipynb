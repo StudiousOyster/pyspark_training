{
 "cells": [
  {
   "cell_type": "markdown",
   "id": "1e101982",
   "metadata": {},
   "source": [
    "# Share of Active Users\n",
    "Calculate the percentage of users who are both from the US and have an 'open' status, as indicated in the fb_active_users table.\n",
    "Table: fb_active_users"
   ]
  },
  {
   "cell_type": "markdown",
   "id": "8d6ac6fd",
   "metadata": {},
   "source": []
  }
 ],
 "metadata": {
  "kernelspec": {
   "display_name": ".venv",
   "language": "python",
   "name": "python3"
  },
  "language_info": {
   "name": "python",
   "version": "3.11.9"
  }
 },
 "nbformat": 4,
 "nbformat_minor": 5
}
