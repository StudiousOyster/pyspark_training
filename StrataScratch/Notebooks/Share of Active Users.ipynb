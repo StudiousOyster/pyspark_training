{
 "cells": [
  {
   "cell_type": "markdown",
   "id": "1e101982",
   "metadata": {},
   "source": [
    "# Share of Active Users\n",
    "Calculate the percentage of users who are both from the US and have an 'open' status, as indicated in the fb_active_users table.<br> <br>\n",
    "Table: fb_active_users"
   ]
  },
  {
   "cell_type": "code",
   "execution_count": 2,
   "id": "8d6ac6fd",
   "metadata": {},
   "outputs": [],
   "source": [
    "import pyspark\n",
    "from pyspark.sql import SparkSession\n",
    "from pyspark.sql import functions as F\n",
    "from pyspark.sql.window import Window\n",
    "\n",
    "import os\n",
    "import sys"
   ]
  },
  {
   "cell_type": "code",
   "execution_count": 4,
   "id": "b322feab",
   "metadata": {},
   "outputs": [
    {
     "name": "stdout",
     "output_type": "stream",
     "text": [
      "+-------+----------------+------+----------+\n",
      "|user_id|            name|status|   country|\n",
      "+-------+----------------+------+----------+\n",
      "|     33|     Amanda Leon|  open| Australia|\n",
      "|     27| Jessica Farrell|  open|Luxembourg|\n",
      "|     18|   Wanda Ramirez|  open|       USA|\n",
      "|     50|   Samuel Miller|closed|    Brazil|\n",
      "|     16|      Jacob York|  open| Australia|\n",
      "|     25|Natasha Bradford|closed|       USA|\n",
      "|     34|     Donald Ross|closed|     China|\n",
      "|     52|Michelle Jimenez|  open|       USA|\n",
      "|     11|    Theresa John|  open|     China|\n",
      "|     37|  Michael Turner|closed| Australia|\n",
      "|     32| Catherine Hurst|closed|      Mali|\n",
      "|     61|     Tina Turner|  open|Luxembourg|\n",
      "|      4|   Ashley Sparks|  open|     China|\n",
      "|     82|      Jacob York|closed|       USA|\n",
      "|     87|    David Taylor|closed|       USA|\n",
      "|     78|Zachary Anderson|  open|     China|\n",
      "|      5|      Tiger Leon|closed|     China|\n",
      "|     56|  Theresa Weaver|closed|    Brazil|\n",
      "|     21|   Tonya Johnson|closed|      Mali|\n",
      "|     89|      Kyle Curry|closed|      Mali|\n",
      "+-------+----------------+------+----------+\n",
      "only showing top 20 rows\n",
      "\n"
     ]
    }
   ],
   "source": [
    "os.environ[\"JAVA_HOME\"] = \"C:/Program Files/Java/jdk-11\"\n",
    "spark = SparkSession.builder.appName('Share of Active Users').getOrCreate()\n",
    "\n",
    "df = spark.read.format('csv') \\\n",
    "    .option('header', 'true') \\\n",
    "    .option('inferSchema', 'true') \\\n",
    "    .load(\"../Data/fb_active_users.csv\")\n",
    "    \n",
    "df.show()"
   ]
  },
  {
   "cell_type": "code",
   "execution_count": 12,
   "id": "ff154f7d",
   "metadata": {},
   "outputs": [
    {
     "name": "stdout",
     "output_type": "stream",
     "text": [
      "+---------------+\n",
      "|us_active_share|\n",
      "+---------------+\n",
      "|          13.04|\n",
      "+---------------+\n",
      "\n"
     ]
    }
   ],
   "source": [
    "result = df.withColumn(\n",
    "    'active_users',\n",
    "    F.when((F.col('status') == 'open') & (F.col('country') == 'USA'), 1).otherwise(0)\n",
    "    )\n",
    "\n",
    "result = result.agg(\n",
    "    F.round(\n",
    "        F.sum('active_users')/F.count('*') * 100,\n",
    "        2\n",
    "        ).alias('us_active_share')\n",
    "    ).show()"
   ]
  },
  {
   "cell_type": "code",
   "execution_count": null,
   "id": "6f0c2b37",
   "metadata": {},
   "outputs": [],
   "source": []
  }
 ],
 "metadata": {
  "kernelspec": {
   "display_name": ".venv",
   "language": "python",
   "name": "python3"
  },
  "language_info": {
   "codemirror_mode": {
    "name": "ipython",
    "version": 3
   },
   "file_extension": ".py",
   "mimetype": "text/x-python",
   "name": "python",
   "nbconvert_exporter": "python",
   "pygments_lexer": "ipython3",
   "version": "3.11.9"
  }
 },
 "nbformat": 4,
 "nbformat_minor": 5
}
