{
 "cells": [
  {
   "cell_type": "markdown",
   "id": "034675ff",
   "metadata": {},
   "source": [
    "## Unique Users Per Client Per Month (uucm)\n",
    "\n",
    "Write a query that returns the number of unique users per client per month.\n",
    "\n",
    "Table: fact_events_uucm"
   ]
  },
  {
   "cell_type": "code",
   "execution_count": 1,
   "id": "5f1b1ef3",
   "metadata": {},
   "outputs": [],
   "source": [
    "import pyspark\n",
    "from pyspark.sql import functions as F\n",
    "from pyspark.sql import SparkSession\n",
    "from pyspark.sql.window import Window\n",
    "import os"
   ]
  },
  {
   "cell_type": "code",
   "execution_count": 2,
   "id": "19826caf",
   "metadata": {},
   "outputs": [],
   "source": [
    "os.environ['JAVA_HOME'] = \"C:/Program Files/Java/jdk-11\"\n",
    "\n",
    "spark = SparkSession.builder.appName('Election Results').getOrCreate()"
   ]
  },
  {
   "cell_type": "code",
   "execution_count": 7,
   "id": "93d7e678",
   "metadata": {},
   "outputs": [
    {
     "name": "stdout",
     "output_type": "stream",
     "text": [
      "+---+----------+----------+-----------+---------+-------------------+--------+\n",
      "| id|   time_id|   user_id|customer_id|client_id|         event_type|event_id|\n",
      "+---+----------+----------+-----------+---------+-------------------+--------+\n",
      "|  1|2020-02-28|3668-QPYBK|     Sendit|  desktop|       message sent|       3|\n",
      "|  2|2020-02-28|7892-POOKP|  Connectix|   mobile|      file received|       2|\n",
      "|  3|2020-04-03|9763-GRSKD|     Zoomit|  desktop|video call received|       7|\n",
      "|  4|2020-04-02|9763-GRSKD|  Connectix|  desktop|video call received|       7|\n",
      "|  5|2020-02-06|9237-HQITU|     Sendit|  desktop|video call received|       7|\n",
      "+---+----------+----------+-----------+---------+-------------------+--------+\n",
      "only showing top 5 rows\n",
      "\n"
     ]
    }
   ],
   "source": [
    "df = spark.read.format('csv').\\\n",
    "        option('header', True).\\\n",
    "        option('inferSchema', True).\\\n",
    "        load('../Data/fact_events_uucm.csv')\n",
    "        \n",
    "df.show(5)"
   ]
  },
  {
   "cell_type": "code",
   "execution_count": 11,
   "id": "d9aed12d",
   "metadata": {},
   "outputs": [
    {
     "name": "stdout",
     "output_type": "stream",
     "text": [
      "+---------+------+---------+\n",
      "|client_id|months|users_num|\n",
      "+---------+------+---------+\n",
      "|  desktop|     4|       11|\n",
      "|   mobile|     4|        9|\n",
      "|  desktop|     2|       13|\n",
      "|   mobile|     3|       14|\n",
      "|   mobile|     2|        9|\n",
      "|  desktop|     3|       16|\n",
      "+---------+------+---------+\n",
      "\n"
     ]
    }
   ],
   "source": [
    "result = df.groupBy(\n",
    "    'client_id',\n",
    "    F.month('time_id').alias('months')\n",
    "    ).agg(\n",
    "        F.countDistinct('user_id').alias('users_num')\n",
    "        )\n",
    "    \n",
    "result.show()"
   ]
  },
  {
   "cell_type": "code",
   "execution_count": null,
   "id": "25af2824",
   "metadata": {},
   "outputs": [],
   "source": []
  }
 ],
 "metadata": {
  "kernelspec": {
   "display_name": ".venv",
   "language": "python",
   "name": "python3"
  },
  "language_info": {
   "codemirror_mode": {
    "name": "ipython",
    "version": 3
   },
   "file_extension": ".py",
   "mimetype": "text/x-python",
   "name": "python",
   "nbconvert_exporter": "python",
   "pygments_lexer": "ipython3",
   "version": "3.11.9"
  }
 },
 "nbformat": 4,
 "nbformat_minor": 5
}
