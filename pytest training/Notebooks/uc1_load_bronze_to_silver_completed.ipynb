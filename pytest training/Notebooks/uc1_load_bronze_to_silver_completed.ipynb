{
 "cells": [
  {
   "cell_type": "code",
   "execution_count": 0,
   "metadata": {
    "application/vnd.databricks.v1+cell": {
     "cellMetadata": {
      "byteLimit": 2048000,
      "rowLimit": 10000
     },
     "inputWidgets": {},
     "nuid": "1b77018d-c537-478a-ae76-b7a162d0d1e9",
     "showTitle": false,
     "tableResultSettingsMap": {},
     "title": ""
    }
   },
   "outputs": [],
   "source": [
    "# Authenticate Databricks to access Data Lake\n",
    "# <scope name> value must be updated with Azure Key Vault-backed secret scope name\n",
    "# <app-id-azure-key-vault-key> must be updated with Azure Key Vault value for application id\n",
    "# <tenant-id-azure-key-vault-key> must be updated with Azure Key Vault value for tenant id\n",
    "# <client-secret-azure-key-vault-key> must be updated with Azure Key Vault value for client secret\n",
    "\n",
    "# AppID = dbutils.secrets.get(scope=\"kv_SecretScope\", key=\"App-ServPrin-ApplicationId\")\n",
    "# TenantID = dbutils.secrets.get(scope=\"kv_SecretScope\", key=\"App-ServPrin-TenantId\")\n",
    "# ClientSecret = dbutils.secrets.get(scope=\"kv_SecretScope\", key=\"App-ServPrin-SecretValue\")\n",
    "\n",
    "# configs = {\"fs.azure.account.auth.type\": \"OAuth\",\n",
    "#           \"fs.azure.account.oauth.provider.type\": \"org.apache.hadoop.fs.azurebfs.oauth2.ClientCredsTokenProvider\",\n",
    "#           \"fs.azure.account.oauth2.client.id\": AppID,\n",
    "#           \"fs.azure.account.oauth2.client.secret\": ClientSecret,\n",
    "#           \"fs.azure.account.oauth2.client.endpoint\": \"https://login.microsoftonline.com/{tenant}/oauth2/token\".format(tenant=TenantID)}\n",
    "          \n",
    "\n",
    "# Mounting data in an Azure storage account using an Azure Active Directory (Azure AD) application service principal for authentication\n",
    "# dbutils.fs.unmount(\"/mnt/data\") #use to unmount data if needed\n",
    "# <data-lake-name> must be replaced with your Azure Data Lake Storage Gen2 name\n",
    "\n",
    "# try:\n",
    "#     dbutils.fs.mount(\n",
    "#       source = \"abfss://data@stdimentoringdatalakecm1.dfs.core.windows.net/\",\n",
    "#       mount_point = \"/mnt/data\",\n",
    "#       extra_configs = configs)\n",
    "# except Exception as e:\n",
    "#     if \"Directory already mounted\" in str(e):\n",
    "#         pass # Ignore error if already mounted.\n",
    "#     else:\n",
    "#         raise e\n"
   ]
  },
  {
   "cell_type": "code",
   "execution_count": null,
   "metadata": {
    "application/vnd.databricks.v1+cell": {
     "cellMetadata": {
      "byteLimit": 2048000,
      "implicitDf": true,
      "rowLimit": 10000
     },
     "inputWidgets": {},
     "nuid": "c635ecba-4ea2-42a5-8bd1-b17b81c1b75a",
     "showTitle": false,
     "tableResultSettingsMap": {},
     "title": ""
    }
   },
   "outputs": [
    {
     "name": "stderr",
     "output_type": "stream",
     "text": [
      "UsageError: Line magic function `%sql` not found.\n"
     ]
    }
   ],
   "source": [
    "\n",
    "# Creating database and delta tables if not exist\n",
    "\n",
    "# /* TODO - WRITE CODE TO CREATE NEW DATABASE AND DELTA TABLES */\n",
    "# CREATE DATABASE IF NOT EXISTS YouFlix;\n",
    "\n",
    "# USE YouFlix;\n",
    "\n",
    "# CREATE TABLE IF NOT EXISTS youflix_device_delta (\n",
    "#     device_id BIGINT,\n",
    "#     device_name STRING,\n",
    "#     device_type STRING,\n",
    "#     device_os STRING,\n",
    "#     created_timestamp TIMESTAMP\n",
    "#     )\n",
    "# USING DELTA\n",
    "# LOCATION '/mnt/data/silver/youflix/youflix_device';\n",
    "\n",
    "# CREATE TABLE IF NOT EXISTS youflix_subscription_delta (\n",
    "#     subscription_id BIGINT,\n",
    "#     subscription_name STRING,\n",
    "#     subscription_type STRING,\n",
    "#     subscription_video_quality STRING,\n",
    "#     subscription_max_devices INT,\n",
    "#     created_timestamp TIMESTAMP,\n",
    "#     expiration_timestamp TIMESTAMP\n",
    "# )\n",
    "# USING DELTA\n",
    "# LOCATION '/mnt/data/silver/youflix/youflix_subscription';\n",
    "\n",
    "# CREATE TABLE IF NOT EXISTS youflix_user_delta (\n",
    "#     user_id BIGINT,\n",
    "#     user_name STRING,\n",
    "#     user_email STRING,\n",
    "#     first_name STRING,\n",
    "#     last_name STRING,\n",
    "#     user_date_of_birth DATE,\n",
    "#     user_address STRING,\n",
    "#     user_phone STRING,\n",
    "#     created_timestamp TIMESTAMP,\n",
    "#     expiration_timestamp TIMESTAMP,\n",
    "#     modified_timestamp TIMESTAMP\n",
    "#     )\n",
    "# USING DELTA\n",
    "# LOCATION '/mnt/data/silver/youflix/youflix_user';\n",
    "\n",
    "# CREATE TABLE IF NOT EXISTS youflix_user_subscription_device_delta (\n",
    "#     user_subscription_device_id BIGINT,\n",
    "#     user_id BIGINT,\n",
    "#     subscription_id BIGINT,\n",
    "#     device_id BIGINT,\n",
    "#     created_timestamp TIMESTAMP\n",
    "# )\n",
    "# USING DELTA\n",
    "# LOCATION '/mnt/data/silver/youflix/youflix_user_subscription_device';\n",
    "\n"
   ]
  },
  {
   "cell_type": "code",
   "execution_count": 0,
   "metadata": {
    "application/vnd.databricks.v1+cell": {
     "cellMetadata": {
      "byteLimit": 2048000,
      "rowLimit": 10000
     },
     "inputWidgets": {},
     "nuid": "3a73d209-8643-4906-b050-62f20a57c0cf",
     "showTitle": false,
     "tableResultSettingsMap": {},
     "title": ""
    }
   },
   "outputs": [],
   "source": [
    "import re\n",
    "# from delta.tables import *\n",
    "from pyspark.sql.functions import *\n",
    "from pyspark.sql import Window\n",
    "\n",
    "#dictionary \"entities\" store the name of the entities and it's BK \n",
    "entities = {\"device\":\"device_id\", \n",
    "          \"subscription\":\"subscription_id\", \n",
    "          \"user\":\"user_id\", \n",
    "          \"user_subscription_device\":\"user_subscription_device_id\"}\n",
    "\n",
    "\n",
    "try:\n",
    "    #looping through every entity\n",
    "    # for entity in entities.items() :   \n",
    "        # bronzePath = \"/mnt/data/bronze/youflix/youflix_{entity_name}\".format(entity_name=entity[0])\n",
    "        # silverPath = \"/mnt/data/silver/youflix/youflix_{entity_name}\".format(entity_name=entity[0])\n",
    "        # processedPath = \"/mnt/data/bronze/youflix/processed/youflix_{entity_name}\".format(entity_name=entity[0])  \n",
    "\n",
    "    for table_name, bk_column in entities.items():\n",
    "        bronzePath = f\"/mnt/data/bronze/youflix/youflix_{table_name}\"\n",
    "        silverPath = f\"/mnt/data/silver/youflix/youflix_{table_name}\"\n",
    "        processedPath = f\"/mnt/data/bronze/youflix/processed/youflix_{table_name}\"\n",
    "\n",
    "        #files to load from bronze to silver\n",
    "        # lists the files in the bronzepath\n",
    "        filePaths = dbutils.fs.ls(bronzePath)\n",
    "        # if we are checking only whether .csv files exists, then use the below code\n",
    "        # csv_files = [f.path for f in filePaths if f.name.endswith('.csv')]\n",
    "\n",
    "        if filePaths:\n",
    "        #  if checking only for csv files, then this would change to if csv_files:\n",
    "            \n",
    "            #MERGE BRONZE TO SILVER\n",
    "                       \n",
    "                       #TODO\n",
    "                       #use pyspark spark.read.load method to create dataframe based on csv files in the bronzePath\n",
    "                       #do not forget that file has header\n",
    "            bronzeDF = spark.read.format('csv') \\\n",
    "                            .option(\"header\", \"true\") \\\n",
    "                            .load(bronzePath)\n",
    "                       \n",
    "                       \n",
    "            partition=Window.partitionBy(bk_column).orderBy(col(\"filedate\").desc())\n",
    "           \n",
    "            bronzeDF_cln = (bronzeDF.withColumn(\"filedate\", to_timestamp(regexp_extract(input_file_name(),'([\\d]{14})',0), 'yyyyMMddhhmmss'))\n",
    "                                    .withColumn(\"rn\",row_number().over(partition))\n",
    "                                    .filter(\"rn == 1\")\n",
    "                            )\n",
    "\n",
    "            #get delta table at the silver path\n",
    "            silver_table = DeltaTable.forPath(spark, silverPath)\n",
    "\n",
    "\n",
    "            #TODO\n",
    "            #add your code into brackets below\n",
    "            #use pyspark merge method to merge bronzeDF_cln dataframe into silver_table by BK. BK for table can be accessible by entity[1]\n",
    "            #refer to the https://learn.microsoft.com/en-us/azure/databricks/delta/merge to learn about upsert into a Delta Lake table using merge. \n",
    "            #this article https://docs.delta.io/latest/delta-update.html#table-deletes-updates-and-merges&language-python will help to understand how to delete, update and merge Delta tables\n",
    "            \n",
    "            silver_table.alias('tgt') \\\n",
    "                .merge (\n",
    "                    bronzeDF_cln.alias('src'),\n",
    "                    f\"tgt.{bk_column} = src.{bk_column}\"\n",
    "                    ) \\\n",
    "                .whenMatchedUpdateAll() \\\n",
    "                .whenNotMatchedInsertAll() \\\n",
    "                .execute()\n",
    "\n",
    "            #MOVE TO PROCESSED DIRECTORY \n",
    "\n",
    "            #looping through every file in directory\n",
    "            for file_info in filePaths:\n",
    "\n",
    "                #creating tuple to store (year, month, day) of the file\n",
    "                file_date = (re.split(\"_\", file_info.name)[-1][0:4], re.split(\"_\", file_info.name)[-1][4:6], re.split(\"_\", file_info.name)[-1][6:8])\n",
    "                \n",
    "                #TODO \n",
    "                #complete mv command to move files from bronzePath to processedPath according to the structure in 1.2.7.\n",
    "                #use file_date tuple to get year, month and day of the file, use file_info.name to get name of file\n",
    "                dbutils.fs.mv(\n",
    "                    f\"{bronzePath}/{file_info.name}\",\n",
    "                    f\"{processedPath}/{file_date[0]}/{file_date[1]}/{file_date[2]}/{file_info.name}\"\n",
    "                    )\n",
    "    \n",
    "        else:\n",
    "            raise Exception(\"Entity \\\"{table_name}\\\" - No files for load\")\n",
    "\n",
    "    #REMOVE Success.csv\n",
    "\n",
    "    #TODO \n",
    "    #complete rm command to remove Success.csv\n",
    "    dbutils.fs.rm(\"/mnt/data/bronze/youflix/Success.csv\")\n",
    "    \n",
    "except Exception as e:\n",
    "    print(e)\n",
    "    "
   ]
  },
  {
   "cell_type": "code",
   "execution_count": 7,
   "metadata": {
    "application/vnd.databricks.v1+cell": {
     "cellMetadata": {},
     "inputWidgets": {},
     "nuid": "42b6bc44-ca73-4d0d-8c85-9bcdb02c0328",
     "showTitle": false,
     "tableResultSettingsMap": {},
     "title": ""
    }
   },
   "outputs": [
    {
     "name": "stdout",
     "output_type": "stream",
     "text": [
      "Notebooks/uc1_load_bronze_to_silver_completed.ipynb\n"
     ]
    }
   ],
   "source": [
    "import re\n",
    "# from delta.tables import *\n",
    "from pyspark.sql.functions import *\n",
    "from pyspark.sql import Window\n",
    "\n",
    "fileName = 'uc1_load_bronze_to_silver_completed.ipynb'\n",
    "\n",
    "file_path = f'Notebooks/{fileName}'\n",
    "\n",
    "print(file_path)"
   ]
  },
  {
   "cell_type": "code",
   "execution_count": 8,
   "metadata": {},
   "outputs": [
    {
     "ename": "NameError",
     "evalue": "name 'dbutils' is not defined",
     "output_type": "error",
     "traceback": [
      "\u001b[31m---------------------------------------------------------------------------\u001b[39m",
      "\u001b[31mNameError\u001b[39m                                 Traceback (most recent call last)",
      "\u001b[36mCell\u001b[39m\u001b[36m \u001b[39m\u001b[32mIn[8]\u001b[39m\u001b[32m, line 1\u001b[39m\n\u001b[32m----> \u001b[39m\u001b[32m1\u001b[39m file_info = \u001b[43mdbutils\u001b[49m.fs.ls(file_path)\n\u001b[32m      3\u001b[39m file_info\n",
      "\u001b[31mNameError\u001b[39m: name 'dbutils' is not defined"
     ]
    }
   ],
   "source": [
    "file_info = dbutils.fs.ls(file_path)\n",
    "\n",
    "file_info"
   ]
  },
  {
   "cell_type": "code",
   "execution_count": null,
   "metadata": {},
   "outputs": [],
   "source": []
  }
 ],
 "metadata": {
  "application/vnd.databricks.v1+notebook": {
   "computePreferences": null,
   "dashboards": [],
   "environmentMetadata": null,
   "inputWidgetPreferences": null,
   "language": "python",
   "notebookMetadata": {
    "mostRecentlyExecutedCommandWithImplicitDF": {
     "commandId": -1,
     "dataframes": [
      "_sqldf"
     ]
    },
    "pythonIndentUnit": 4
   },
   "notebookName": "uc1_load_bronze_to_silver",
   "widgets": {}
  },
  "kernelspec": {
   "display_name": ".venv",
   "language": "python",
   "name": "python3"
  },
  "language_info": {
   "codemirror_mode": {
    "name": "ipython",
    "version": 3
   },
   "file_extension": ".py",
   "mimetype": "text/x-python",
   "name": "python",
   "nbconvert_exporter": "python",
   "pygments_lexer": "ipython3",
   "version": "3.11.9"
  }
 },
 "nbformat": 4,
 "nbformat_minor": 0
}
