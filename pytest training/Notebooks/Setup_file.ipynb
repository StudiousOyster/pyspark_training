{
 "cells": [
  {
   "cell_type": "markdown",
   "metadata": {
    "application/vnd.databricks.v1+cell": {
     "cellMetadata": {},
     "inputWidgets": {},
     "nuid": "62295ddc-7401-462b-9e97-47694c090fb9",
     "showTitle": false,
     "tableResultSettingsMap": {},
     "title": ""
    }
   },
   "source": [
    "To create a set up file which stores and creates a reference details dataframe and control details dataframe from reference file and control file"
   ]
  },
  {
   "cell_type": "code",
   "execution_count": 0,
   "metadata": {
    "application/vnd.databricks.v1+cell": {
     "cellMetadata": {
      "byteLimit": 2048000,
      "rowLimit": 10000
     },
     "inputWidgets": {},
     "nuid": "79c450a7-2707-4eed-a20c-3ad4f7bb370f",
     "showTitle": false,
     "tableResultSettingsMap": {},
     "title": ""
    }
   },
   "outputs": [
    {
     "output_type": "stream",
     "name": "stdout",
     "output_type": "stream",
     "text": [
      "Out[1]: True"
     ]
    }
   ],
   "source": [
    "# dbutils.fs.mkdirs('Config Files')"
   ]
  },
  {
   "cell_type": "code",
   "execution_count": 0,
   "metadata": {
    "application/vnd.databricks.v1+cell": {
     "cellMetadata": {
      "byteLimit": 2048000,
      "rowLimit": 10000
     },
     "inputWidgets": {},
     "nuid": "8dc5437a-ab54-40dc-b223-b3f66e0ab722",
     "showTitle": false,
     "tableResultSettingsMap": {},
     "title": ""
    }
   },
   "outputs": [
    {
     "output_type": "display_data",
     "data": {
      "text/html": [
       "<style scoped>\n",
       "  .table-result-container {\n",
       "    max-height: 300px;\n",
       "    overflow: auto;\n",
       "  }\n",
       "  table, th, td {\n",
       "    border: 1px solid black;\n",
       "    border-collapse: collapse;\n",
       "  }\n",
       "  th, td {\n",
       "    padding: 5px;\n",
       "  }\n",
       "  th {\n",
       "    text-align: left;\n",
       "  }\n",
       "</style><div class='table-result-container'><table class='table-result'><thead style='background-color: white'><tr><th>path</th><th>name</th><th>size</th><th>modificationTime</th></tr></thead><tbody><tr><td>dbfs:/FileStore/tables/Orders_data.csv</td><td>Orders_data.csv</td><td>14418287</td><td>1748350980000</td></tr><tr><td>dbfs:/FileStore/tables/Returns_data.csv</td><td>Returns_data.csv</td><td>38770</td><td>1748350987000</td></tr><tr><td>dbfs:/FileStore/tables/SrcTableDetails.csv</td><td>SrcTableDetails.csv</td><td>1843</td><td>1748352227000</td></tr><tr><td>dbfs:/FileStore/tables/TgtDetails.csv</td><td>TgtDetails.csv</td><td>203</td><td>1748352231000</td></tr><tr><td>dbfs:/FileStore/tables/orders/</td><td>orders/</td><td>0</td><td>0</td></tr></tbody></table></div>"
      ]
     },
     "metadata": {
      "application/vnd.databricks.v1+output": {
       "addedWidgets": {},
       "aggData": [],
       "aggError": "",
       "aggOverflow": false,
       "aggSchema": [],
       "aggSeriesLimitReached": false,
       "aggType": "",
       "arguments": {},
       "columnCustomDisplayInfos": {},
       "data": [
        [
         "dbfs:/FileStore/tables/Orders_data.csv",
         "Orders_data.csv",
         14418287,
         1748350980000
        ],
        [
         "dbfs:/FileStore/tables/Returns_data.csv",
         "Returns_data.csv",
         38770,
         1748350987000
        ],
        [
         "dbfs:/FileStore/tables/SrcTableDetails.csv",
         "SrcTableDetails.csv",
         1843,
         1748352227000
        ],
        [
         "dbfs:/FileStore/tables/TgtDetails.csv",
         "TgtDetails.csv",
         203,
         1748352231000
        ],
        [
         "dbfs:/FileStore/tables/orders/",
         "orders/",
         0,
         0
        ]
       ],
       "datasetInfos": [],
       "dbfsResultPath": null,
       "isJsonSchema": true,
       "metadata": {},
       "overflow": false,
       "plotOptions": {
        "customPlotOptions": {},
        "displayType": "table",
        "pivotAggregation": null,
        "pivotColumns": null,
        "xColumns": null,
        "yColumns": null
       },
       "removedWidgets": [],
       "schema": [
        {
         "metadata": "{}",
         "name": "path",
         "type": "\"string\""
        },
        {
         "metadata": "{}",
         "name": "name",
         "type": "\"string\""
        },
        {
         "metadata": "{}",
         "name": "size",
         "type": "\"long\""
        },
        {
         "metadata": "{}",
         "name": "modificationTime",
         "type": "\"long\""
        }
       ],
       "type": "table"
      }
     },
     "output_type": "display_data"
    }
   ],
   "source": [
    "# # display(dbutils.fs.ls(\"/\"))\n",
    "\n",
    "# # to display the list of files inside the specific location\n",
    "# tbl_path = 'dbfs:/FileStore/tables/'\n",
    "\n",
    "# # display(dbutils.fs.ls(tbl_path))\n",
    "# files = dbutils.fs.ls(tbl_path)\n",
    "\n",
    "# display(files)"
   ]
  },
  {
   "cell_type": "code",
   "execution_count": 0,
   "metadata": {
    "application/vnd.databricks.v1+cell": {
     "cellMetadata": {
      "byteLimit": 2048000,
      "rowLimit": 10000
     },
     "inputWidgets": {},
     "nuid": "716179ef-67bb-4164-a816-7b0a478aa8c6",
     "showTitle": false,
     "tableResultSettingsMap": {},
     "title": ""
    }
   },
   "outputs": [],
   "source": [
    "# # remove files form that location\n",
    "# for f in files:\n",
    "#     # if f.name.endswith('.csv'):\n",
    "#     if f.name == 'TableDetails.csv':\n",
    "#         dbutils.fs.rm(f.path)"
   ]
  },
  {
   "cell_type": "code",
   "execution_count": 0,
   "metadata": {
    "application/vnd.databricks.v1+cell": {
     "cellMetadata": {
      "byteLimit": 2048000,
      "rowLimit": 10000
     },
     "inputWidgets": {},
     "nuid": "b1fa5412-1d8c-4204-a594-77d6a264c638",
     "showTitle": false,
     "tableResultSettingsMap": {},
     "title": ""
    }
   },
   "outputs": [],
   "source": [
    "from pyspark.sql import functions as F\n",
    "from pyspark.sql import SparkSession\n"
   ]
  },
  {
   "cell_type": "code",
   "execution_count": 0,
   "metadata": {
    "application/vnd.databricks.v1+cell": {
     "cellMetadata": {
      "byteLimit": 2048000,
      "rowLimit": 10000
     },
     "inputWidgets": {},
     "nuid": "871fb5db-1f66-42c8-bb82-7464d9fe0e6f",
     "showTitle": false,
     "tableResultSettingsMap": {},
     "title": ""
    }
   },
   "outputs": [],
   "source": [
    "spark = SparkSession.builder.appName('ETL Validations').getOrCreate()"
   ]
  },
  {
   "cell_type": "code",
   "execution_count": 0,
   "metadata": {
    "application/vnd.databricks.v1+cell": {
     "cellMetadata": {
      "byteLimit": 2048000,
      "rowLimit": 10000
     },
     "inputWidgets": {},
     "nuid": "7e856c60-595b-42d3-ad04-4e7309812b00",
     "showTitle": false,
     "tableResultSettingsMap": {},
     "title": ""
    }
   },
   "outputs": [],
   "source": [
    "src_details_df = spark.read.format('csv') \\\n",
    "            .option('header', True) \\\n",
    "            .option('inferSchema', True) \\\n",
    "            .load('dbfs:/FileStore/tables/SrcTableDetails.csv')\n",
    "\n",
    "# src_details_df.show()"
   ]
  },
  {
   "cell_type": "code",
   "execution_count": 0,
   "metadata": {
    "application/vnd.databricks.v1+cell": {
     "cellMetadata": {
      "byteLimit": 2048000,
      "rowLimit": 10000
     },
     "inputWidgets": {},
     "nuid": "ca98c343-dcb7-407e-869c-7ceffe70f628",
     "showTitle": false,
     "tableResultSettingsMap": {},
     "title": ""
    }
   },
   "outputs": [],
   "source": [
    "tgt_details_df = spark.read.format('csv') \\\n",
    "            .option('header', True) \\\n",
    "            .option('inferSchema', True) \\\n",
    "            .load('dbfs:/FileStore/tables/TgtDetails.csv')\n",
    "\n",
    "# file_details_df.show()"
   ]
  },
  {
   "cell_type": "code",
   "execution_count": 0,
   "metadata": {
    "application/vnd.databricks.v1+cell": {
     "cellMetadata": {
      "byteLimit": 2048000,
      "rowLimit": 10000
     },
     "inputWidgets": {},
     "nuid": "7bff1e93-7b78-4510-8cfa-ad6ffbec6ad4",
     "showTitle": false,
     "tableResultSettingsMap": {},
     "title": ""
    }
   },
   "outputs": [],
   "source": [
    "#  to read a table\n",
    "# spark.table('hive_metastore.default.controltable_csv')"
   ]
  }
 ],
 "metadata": {
  "application/vnd.databricks.v1+notebook": {
   "computePreferences": null,
   "dashboards": [],
   "environmentMetadata": {
    "base_environment": "",
    "environment_version": "1"
   },
   "inputWidgetPreferences": null,
   "language": "python",
   "notebookMetadata": {
    "pythonIndentUnit": 4
   },
   "notebookName": "Setup_file",
   "widgets": {}
  }
 },
 "nbformat": 4,
 "nbformat_minor": 0
}