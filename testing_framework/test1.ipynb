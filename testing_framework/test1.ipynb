{
 "cells": [
  {
   "cell_type": "code",
   "execution_count": 1,
   "id": "5f4f12ef",
   "metadata": {},
   "outputs": [],
   "source": [
    "import pyspark\n",
    "from pyspark.sql import SparkSession\n",
    "from pyspark.sql import functions as F\n",
    "from pyspark.sql.window import Window\n",
    "import os"
   ]
  },
  {
   "cell_type": "code",
   "execution_count": 2,
   "id": "9022b511",
   "metadata": {},
   "outputs": [],
   "source": [
    "os.environ['JAVA_HOME'] = \"C:/Program Files/Java/jdk-11\"\n",
    "spark = SparkSession.builder.appName('test_file').master(\"local\").getOrCreate()"
   ]
  },
  {
   "cell_type": "code",
   "execution_count": 3,
   "id": "5ca94cbd",
   "metadata": {},
   "outputs": [],
   "source": [
    "src_path = r\"C:\\Users\\chipp\\OneDrive\\Desktop\\Training Folder\\Pyspark_Training\\pyspark_training\\testing_framework\\data\\src.csv\"\n",
    "\n",
    "src_df = spark.read.format('csv') \\\n",
    "                .option('header', True)\\\n",
    "                .option('inferSchema', True)\\\n",
    "                .load(src_path)"
   ]
  },
  {
   "cell_type": "code",
   "execution_count": 4,
   "id": "2f462f4c",
   "metadata": {},
   "outputs": [
    {
     "name": "stdout",
     "output_type": "stream",
     "text": [
      "['CinemaCode', 'CinemaName', 'MovieId', 'TicketCount', 'TicketPrice', 'TransactionId', 'TransactionDt']\n"
     ]
    }
   ],
   "source": [
    "print(src_df.columns)"
   ]
  },
  {
   "cell_type": "code",
   "execution_count": 8,
   "id": "43726198",
   "metadata": {},
   "outputs": [
    {
     "data": {
      "text/plain": [
       "['cinemacode',\n",
       " 'cinemaname',\n",
       " 'movieid',\n",
       " 'ticketcount',\n",
       " 'ticketprice',\n",
       " 'transactionid']"
      ]
     },
     "execution_count": 8,
     "metadata": {},
     "output_type": "execute_result"
    }
   ],
   "source": [
    "excluded_cols_src = ['TransactionDt']\n",
    "\n",
    "src_cols = [col.strip().lower() for col in src_df.columns if col not in excluded_cols_src]\n",
    "src_cols"
   ]
  },
  {
   "cell_type": "code",
   "execution_count": 17,
   "id": "8c3fd33c",
   "metadata": {},
   "outputs": [
    {
     "name": "stdout",
     "output_type": "stream",
     "text": [
      "['id', 'name', 'amount']\n",
      "['id', 'amount', 'name']\n",
      "['id', 'name', 'amount']\n"
     ]
    }
   ],
   "source": [
    "src_columns = [' ID ', ' Name', 'Amount ', 'CreatedDate']\n",
    "tgt_columns = ['id', 'AMOUNT', 'name', 'UpdatedBy']\n",
    "oth_columns = [' ID ', ' Name', 'AMOUNT ', 'CreatedDate', 'UpdatedBy']\n",
    "excluded_columns = ['createddate', 'updatedby']\n",
    "\n",
    "src_cols = [col.strip().lower() for col in src_columns if col.strip().lower() not in excluded_columns]\n",
    "tgt_cols = [col.strip().lower() for col in tgt_columns if col.strip().lower() not in excluded_columns]\n",
    "oth_cols = [col.strip().lower() for col in oth_columns if col.strip().lower() not in excluded_columns]\n",
    "\n",
    "print(src_cols)\n",
    "print(tgt_cols)\n",
    "print(oth_cols)"
   ]
  },
  {
   "cell_type": "code",
   "execution_count": 26,
   "id": "365841d7",
   "metadata": {},
   "outputs": [
    {
     "data": {
      "text/plain": [
       "[(0, ('id', 'id')), (1, ('name', 'amount')), (2, ('amount', 'name'))]"
      ]
     },
     "execution_count": 26,
     "metadata": {},
     "output_type": "execute_result"
    }
   ],
   "source": [
    "zipped_cols = enumerate(zip(src_cols, tgt_cols))\n",
    "list(zipped_cols)"
   ]
  },
  {
   "cell_type": "code",
   "execution_count": 27,
   "id": "9edeae9f",
   "metadata": {},
   "outputs": [],
   "source": [
    "mismatched = []\n",
    "\n",
    "for idx, (src_c, tgt_c) in enumerate(zip(src_cols, tgt_cols)):\n",
    "    if src_c != tgt_c:\n",
    "        mismatched.append((idx, src_c, tgt_c))"
   ]
  },
  {
   "cell_type": "code",
   "execution_count": 28,
   "id": "9b5d274a",
   "metadata": {},
   "outputs": [
    {
     "data": {
      "text/plain": [
       "[(1, 'name', 'amount'), (2, 'amount', 'name')]"
      ]
     },
     "execution_count": 28,
     "metadata": {},
     "output_type": "execute_result"
    }
   ],
   "source": [
    "mismatched"
   ]
  },
  {
   "cell_type": "code",
   "execution_count": 29,
   "id": "f6cb21a3",
   "metadata": {},
   "outputs": [
    {
     "data": {
      "text/plain": [
       "['transactiondt']"
      ]
     },
     "execution_count": 29,
     "metadata": {},
     "output_type": "execute_result"
    }
   ],
   "source": [
    "[str.lower('TransactionDt')]"
   ]
  },
  {
   "cell_type": "code",
   "execution_count": null,
   "id": "2824ea24",
   "metadata": {},
   "outputs": [],
   "source": []
  }
 ],
 "metadata": {
  "kernelspec": {
   "display_name": ".venv",
   "language": "python",
   "name": "python3"
  },
  "language_info": {
   "codemirror_mode": {
    "name": "ipython",
    "version": 3
   },
   "file_extension": ".py",
   "mimetype": "text/x-python",
   "name": "python",
   "nbconvert_exporter": "python",
   "pygments_lexer": "ipython3",
   "version": "3.11.9"
  }
 },
 "nbformat": 4,
 "nbformat_minor": 5
}
